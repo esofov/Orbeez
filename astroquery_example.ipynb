{
 "cells": [
  {
   "cell_type": "code",
   "execution_count": null,
   "id": "c332841d",
   "metadata": {},
   "outputs": [],
   "source": [
    "from astroquery.ipac.nexsci.nasa_exoplanet_archive import NasaExoplanetArchive\n",
    "from Orbeez import make_orbit_gif\n",
    "from astropy import units as u"
   ]
  },
  {
   "cell_type": "code",
   "execution_count": 2,
   "id": "fe339b25",
   "metadata": {},
   "outputs": [
    {
     "data": {
      "text/html": [
       "<div><i>QTable masked=True length=3</i>\n",
       "<table id=\"table140339106970160\" class=\"table-striped table-bordered table-condensed\">\n",
       "<thead><tr><th>pl_name</th><th>pl_orbsmax</th><th>pl_orbper</th><th>pl_radj</th><th>st_rad</th></tr></thead>\n",
       "<thead><tr><th></th><th>AU</th><th>d</th><th>jupiterRad</th><th>Rsun</th></tr></thead>\n",
       "<thead><tr><th>str10</th><th>float64</th><th>float64</th><th>float64</th><th>float64</th></tr></thead>\n",
       "<tr><td>HD 63433 d</td><td>0.0503</td><td>4.209075</td><td>0.09572681</td><td>0.912</td></tr>\n",
       "<tr><td>HD 63433 c</td><td>0.146</td><td>20.543847</td><td>0.23037697</td><td>0.9169</td></tr>\n",
       "<tr><td>HD 63433 b</td><td>0.072</td><td>7.1079384</td><td>0.1930163</td><td>0.9169</td></tr>\n",
       "</table></div>"
      ],
      "text/plain": [
       "<QTable masked=True length=3>\n",
       " pl_name   pl_orbsmax pl_orbper  pl_radj    st_rad\n",
       "               AU         d     jupiterRad   Rsun \n",
       "  str10     float64    float64   float64   float64\n",
       "---------- ---------- --------- ---------- -------\n",
       "HD 63433 d     0.0503  4.209075 0.09572681   0.912\n",
       "HD 63433 c      0.146 20.543847 0.23037697  0.9169\n",
       "HD 63433 b      0.072 7.1079384  0.1930163  0.9169"
      ]
     },
     "execution_count": 2,
     "metadata": {},
     "output_type": "execute_result"
    }
   ],
   "source": [
    "planets_data = NasaExoplanetArchive.query_criteria(\n",
    "    table=\"ps\", \n",
    "    select=\"pl_name, pl_orbsmax, pl_orbper, pl_radj, st_rad\", \n",
    "    where=\"hostname='HD 63433' AND default_flag=1\", \n",
    ")\n",
    "\n",
    "planets_data"
   ]
  },
  {
   "cell_type": "code",
   "execution_count": 5,
   "id": "04faa08a",
   "metadata": {},
   "outputs": [],
   "source": [
    "a_list = (planets_data['pl_orbsmax'].to(u.Rsun)/planets_data['st_rad']).value\n",
    "p_list = planets_data['pl_orbper'].value\n",
    "r_list = (planets_data['pl_radj'].to(u.Rsun)/planets_data['st_rad']).value\n",
    "\n",
    "make_orbit_gif(a_list, p_list, r_list, directory='/mnt/c/Users/kroft/Documents/test resogif/', name='HD 63433')"
   ]
  },
  {
   "cell_type": "code",
   "execution_count": null,
   "id": "efa01b42",
   "metadata": {},
   "outputs": [],
   "source": []
  }
 ],
 "metadata": {
  "kernelspec": {
   "display_name": "codeastro",
   "language": "python",
   "name": "python3"
  },
  "language_info": {
   "codemirror_mode": {
    "name": "ipython",
    "version": 3
   },
   "file_extension": ".py",
   "mimetype": "text/x-python",
   "name": "python",
   "nbconvert_exporter": "python",
   "pygments_lexer": "ipython3",
   "version": "3.12.3"
  }
 },
 "nbformat": 4,
 "nbformat_minor": 5
}
