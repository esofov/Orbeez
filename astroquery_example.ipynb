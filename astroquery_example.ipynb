{
 "cells": [
  {
   "cell_type": "code",
   "execution_count": 1,
   "id": "c332841d",
   "metadata": {},
   "outputs": [],
   "source": [
    "from astroquery.ipac.nexsci.nasa_exoplanet_archive import NasaExoplanetArchive\n",
    "from ResoGif import make_orbit_gif\n",
    "from astropy import units as u"
   ]
  },
  {
   "cell_type": "code",
   "execution_count": 2,
   "id": "fe339b25",
   "metadata": {},
   "outputs": [
    {
     "data": {
      "text/html": [
       "<div><i>QTable masked=True length=7</i>\n",
       "<table id=\"table139789070190384\" class=\"table-striped table-bordered table-condensed\">\n",
       "<thead><tr><th>pl_name</th><th>pl_orbsmax</th><th>pl_orbper</th><th>pl_radj</th><th>st_rad</th></tr></thead>\n",
       "<thead><tr><th></th><th>AU</th><th>d</th><th>jupiterRad</th><th>Rsun</th></tr></thead>\n",
       "<thead><tr><th>str12</th><th>float64</th><th>float64</th><th>float64</th><th>float64</th></tr></thead>\n",
       "<tr><td>TRAPPIST-1 b</td><td>0.01154</td><td>1.510826</td><td>0.09956302</td><td>0.1192</td></tr>\n",
       "<tr><td>TRAPPIST-1 d</td><td>0.02227</td><td>4.049219</td><td>0.07030077</td><td>0.1192</td></tr>\n",
       "<tr><td>TRAPPIST-1 f</td><td>0.03849</td><td>9.20754</td><td>0.09322882</td><td>0.1192</td></tr>\n",
       "<tr><td>TRAPPIST-1 g</td><td>0.04683</td><td>12.352446</td><td>0.10072281</td><td>0.1192</td></tr>\n",
       "<tr><td>TRAPPIST-1 e</td><td>0.02925</td><td>6.101013</td><td>0.08207704</td><td>0.1192</td></tr>\n",
       "<tr><td>TRAPPIST-1 c</td><td>0.0158</td><td>2.421937</td><td>0.09786795</td><td>0.1192</td></tr>\n",
       "<tr><td>TRAPPIST-1 h</td><td>0.06189</td><td>18.772866</td><td>0.0673567</td><td>0.1192</td></tr>\n",
       "</table></div>"
      ],
      "text/plain": [
       "<QTable masked=True length=7>\n",
       "  pl_name    pl_orbsmax pl_orbper  pl_radj    st_rad\n",
       "                 AU         d     jupiterRad   Rsun \n",
       "   str12      float64    float64   float64   float64\n",
       "------------ ---------- --------- ---------- -------\n",
       "TRAPPIST-1 b    0.01154  1.510826 0.09956302  0.1192\n",
       "TRAPPIST-1 d    0.02227  4.049219 0.07030077  0.1192\n",
       "TRAPPIST-1 f    0.03849   9.20754 0.09322882  0.1192\n",
       "TRAPPIST-1 g    0.04683 12.352446 0.10072281  0.1192\n",
       "TRAPPIST-1 e    0.02925  6.101013 0.08207704  0.1192\n",
       "TRAPPIST-1 c     0.0158  2.421937 0.09786795  0.1192\n",
       "TRAPPIST-1 h    0.06189 18.772866  0.0673567  0.1192"
      ]
     },
     "execution_count": 2,
     "metadata": {},
     "output_type": "execute_result"
    }
   ],
   "source": [
    "planets_data = NasaExoplanetArchive.query_criteria(\n",
    "    table=\"ps\", \n",
    "    select=\"pl_name, pl_orbsmax, pl_orbper, pl_radj, st_rad\", \n",
    "    where=\"hostname='TRAPPIST-1' AND default_flag=1\", \n",
    ")\n",
    "\n",
    "planets_data"
   ]
  },
  {
   "cell_type": "code",
   "execution_count": null,
   "id": "04faa08a",
   "metadata": {},
   "outputs": [],
   "source": [
    "a_list = (planets_data['pl_orbsmax'].to(u.Rsun)/planets_data['st_rad']).value\n",
    "p_list = planets_data['pl_orbper'].value\n",
    "r_list = (planets_data['pl_radj'].to(u.Rsun)/planets_data['st_rad']).value\n",
    "\n",
    "make_orbit_gif(a_list, p_list, r_list, directory='/mnt/c/Users/kroft/Documents/test resogif/', name='trappist')"
   ]
  },
  {
   "cell_type": "code",
   "execution_count": null,
   "id": "efa01b42",
   "metadata": {},
   "outputs": [],
   "source": []
  }
 ],
 "metadata": {
  "kernelspec": {
   "display_name": "codeastro",
   "language": "python",
   "name": "python3"
  },
  "language_info": {
   "codemirror_mode": {
    "name": "ipython",
    "version": 3
   },
   "file_extension": ".py",
   "mimetype": "text/x-python",
   "name": "python",
   "nbconvert_exporter": "python",
   "pygments_lexer": "ipython3",
   "version": "3.10.18"
  }
 },
 "nbformat": 4,
 "nbformat_minor": 5
}
